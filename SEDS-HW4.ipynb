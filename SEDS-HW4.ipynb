{
 "cells": [
  {
   "cell_type": "markdown",
   "metadata": {},
   "source": [
    "### Importing the knn.py file\n",
    "\n",
    "Import the ```knn.py``` file below, along with these other imports"
   ]
  },
  {
   "cell_type": "code",
   "execution_count": 1,
   "metadata": {},
   "outputs": [],
   "source": [
    "import knn\n",
    "\n",
    "#other imports\n",
    "import pandas as pd\n",
    "import numpy as np\n",
    "from collections import Counter\n",
    "from scipy import stats\n",
    "import matplotlib.pyplot as plt"
   ]
  },
  {
   "cell_type": "markdown",
   "metadata": {},
   "source": [
    "### Setting up the training and testing datasets\n",
    "\n",
    "We need to assign training and testing data to perform the k-nearest neighbors with the function we made. We will use ```atomradii.csv``` for training and ```testing.csv``` for testing."
   ]
  },
  {
   "cell_type": "code",
   "execution_count": 2,
   "metadata": {},
   "outputs": [],
   "source": [
    "# Setting up our training data and seperating based on the x,y coordinate and type\n",
    "\n",
    "df_train = pd.read_csv('atomradii.csv')\n",
    "\n",
    "X_train = df_train.iloc[:, :-2].values\n",
    "y_train = df_train.iloc[:, 3].values"
   ]
  },
  {
   "cell_type": "code",
   "execution_count": 3,
   "metadata": {},
   "outputs": [],
   "source": [
    "# Setting up our testing data and seperating based on the x,y coordinate and type\n",
    "\n",
    "df_test = pd.read_csv('testing.csv')\n",
    "\n",
    "X_test = df_test.iloc[:, :-2].values\n",
    "y_test = df_test.iloc[:, 3].values\n"
   ]
  },
  {
   "cell_type": "markdown",
   "metadata": {},
   "source": [
    "### Using the k-nearest neighbors function\n",
    "\n",
    "The specific wrapping function that contains all the other functions/code used to develop a k-nearest neighbors predictor is KNN. Call it by typing knn.KNN. It will take as inputs a training data set(X_train), the classifications of the training data set(y_train), a testing data set(X_test), and a k value(k). Here we will use a k value of 5 as an example. "
   ]
  },
  {
   "cell_type": "code",
   "execution_count": 4,
   "metadata": {},
   "outputs": [
    {
     "name": "stderr",
     "output_type": "stream",
     "text": [
      "/Users/studentuser/miniconda3/lib/python3.7/site-packages/scipy/stats/stats.py:245: RuntimeWarning: The input array could not be properly checked for nan values. nan values will be ignored.\n",
      "  \"values. nan values will be ignored.\", RuntimeWarning)\n"
     ]
    },
    {
     "data": {
      "text/html": [
       "<div>\n",
       "<style scoped>\n",
       "    .dataframe tbody tr th:only-of-type {\n",
       "        vertical-align: middle;\n",
       "    }\n",
       "\n",
       "    .dataframe tbody tr th {\n",
       "        vertical-align: top;\n",
       "    }\n",
       "\n",
       "    .dataframe thead th {\n",
       "        text-align: right;\n",
       "    }\n",
       "</style>\n",
       "<table border=\"1\" class=\"dataframe\">\n",
       "  <thead>\n",
       "    <tr style=\"text-align: right;\">\n",
       "      <th></th>\n",
       "      <th>test point</th>\n",
       "      <th>classification</th>\n",
       "    </tr>\n",
       "  </thead>\n",
       "  <tbody>\n",
       "    <tr>\n",
       "      <th>0</th>\n",
       "      <td>[0.51, 1.12]</td>\n",
       "      <td>[Alk]</td>\n",
       "    </tr>\n",
       "    <tr>\n",
       "      <th>1</th>\n",
       "      <td>[0.37, 0.77]</td>\n",
       "      <td>[Alk]</td>\n",
       "    </tr>\n",
       "    <tr>\n",
       "      <th>2</th>\n",
       "      <td>[0.62, 0.35]</td>\n",
       "      <td>[PT]</td>\n",
       "    </tr>\n",
       "    <tr>\n",
       "      <th>3</th>\n",
       "      <td>[0.62, 0.62]</td>\n",
       "      <td>[PT]</td>\n",
       "    </tr>\n",
       "    <tr>\n",
       "      <th>4</th>\n",
       "      <td>[0.62, 0.93]</td>\n",
       "      <td>[Alk]</td>\n",
       "    </tr>\n",
       "  </tbody>\n",
       "</table>\n",
       "</div>"
      ],
      "text/plain": [
       "     test point classification\n",
       "0  [0.51, 1.12]          [Alk]\n",
       "1  [0.37, 0.77]          [Alk]\n",
       "2  [0.62, 0.35]           [PT]\n",
       "3  [0.62, 0.62]           [PT]\n",
       "4  [0.62, 0.93]          [Alk]"
      ]
     },
     "execution_count": 4,
     "metadata": {},
     "output_type": "execute_result"
    }
   ],
   "source": [
    "knn.KNN(X_train, y_train, X_test, 5)"
   ]
  },
  {
   "cell_type": "markdown",
   "metadata": {},
   "source": [
    "The function output was a pandas dataframe. The first column contains the points that were tested, and the second column contains the predicted classification of those tets points based on their k-nearest neighbors."
   ]
  },
  {
   "cell_type": "markdown",
   "metadata": {},
   "source": [
    "### Did we use the right k value???\n",
    "\n",
    "In this example, we arbitrarily used 5 as our k value. How can we be sure that this yielded the best results? Could choosing a different k value give us better accuracy? A function was also developed in order to test a range of k values and find the error based one each one. Call on the function by typing knn.k_select. This takes the same inputs as our KNN function above, however instead of a single k value, a range of k values is used. In addition you must include the classifications of the testing data, y_test."
   ]
  },
  {
   "cell_type": "code",
   "execution_count": 7,
   "metadata": {},
   "outputs": [
    {
     "data": {
      "text/plain": [
       "[<matplotlib.lines.Line2D at 0x1a2a1131d0>]"
      ]
     },
     "execution_count": 7,
     "metadata": {},
     "output_type": "execute_result"
    },
    {
     "data": {
      "image/png": "[encoded data removed]",
      "text/plain": [
       "<Figure size 432x288 with 1 Axes>"
      ]
     },
     "metadata": {
      "needs_background": "light"
     },
     "output_type": "display_data"
    }
   ],
   "source": [
    "#listing our k value range\n",
    "k_range = list(range(1,25))\n",
    "\n",
    "knn.k_select(X_train, y_train, X_test, y_test, k_range)"
   ]
  },
  {
   "cell_type": "markdown",
   "metadata": {},
   "source": [
    "The output is a plot with the k value on the x axis and the accuracy of using that k value on the y axis. According to this, using a k value of 5 only gives us about 60% accuracy. Using a k value of 1 would actually give you the best accuracy of 80%."
   ]
  },
  {
   "cell_type": "code",
   "execution_count": null,
   "metadata": {},
   "outputs": [],
   "source": []
  }
 ],
 "metadata": {
  "kernelspec": {
   "display_name": "Python 3",
   "language": "python",
   "name": "python3"
  },
  "language_info": {
   "codemirror_mode": {
    "name": "ipython",
    "version": 3
   },
   "file_extension": ".py",
   "mimetype": "text/x-python",
   "name": "python",
   "nbconvert_exporter": "python",
   "pygments_lexer": "ipython3",
   "version": "3.7.1"
  }
 },
 "nbformat": 4,
 "nbformat_minor": 2
}
