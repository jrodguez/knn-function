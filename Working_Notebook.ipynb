{
 "cells": [
  {
   "cell_type": "markdown",
   "metadata": {},
   "source": [
    "# SEDS-HW4\n",
    "Homework #4 from SEDS\n",
    "\n",
    "\n",
    "_note_ This is almost certainly going to be the most challenging homework so far.  It will build on everything you have learned from flow control, functions, lists, etc.  Although these instructions put the functions before the unit tests, you should follow the test driven development paradigm.\n",
    "\n",
    "ALL CODE in `.py` files should be pep8 compliant.\n",
    "\n",
    "### Assignment\n",
    "1. Create a `.py` file called `knn.py` that contains your own implementation of a k-NN classifier.  _Hint_ You should have the following functions (at least): (2 pts)\n",
    " * A wrapping function that is the primary way of interacting with your code.  It takes as parameters, a training dataframe, a value of k and some input data to be classified. It returns the classification for the input data.\n",
    " * A function that returns the Euclidean distance between a row in the intput data to be classified.\n",
    " * A function that returns the list of sorted Euclidean distances between the input data and all rows in the dataframe. _Hint_ Append the distances associated with the rows to a list and use the `.sort()` method on your list.\n",
    " * A function that returns the class prediction based on the list of sorted Euclidean distances.\n",
    " * A wrapping function that helps the user decide on what `k` to use.  This function takes as parameters, a training dataframe, a testing dataframe and a list of values of `k` to try. It returns a dictionary with `k` as the keys and the training accuracy of the test set.  Accuracy is measured by percentage of classifications that were correct for that value of `k`.\n",
    "2. Create a new Jupyter notebook called 'SEDS-HW4.ipynb' that documents how to use your k-NN functions in `knn.py` with an example.  Use the [`atomradii.csv`](https://uwdirect.github.io/SEDS_content/atomradii.csv) and [`testing.csv`](https://uwdirect.github.io/SEDS_content/testing.csv) that DSMCER used in for the inclass demo that relates atomic radii to atomic class.  Leverage Markdown for your demo. (1 pt)\n",
    "3. Create unit tests and put them in `test_knn.py`.  There should be at least one unit test per function, though many more are appropriate for a real implementation.  Again, use the `atomradii` data for the unit tests. Paste the output of running nosetests below. (2 pts)"
   ]
  },
  {
   "cell_type": "markdown",
   "metadata": {},
   "source": [
    "### Imports"
   ]
  },
  {
   "cell_type": "code",
   "execution_count": 23,
   "metadata": {},
   "outputs": [],
   "source": [
    "import pandas as pd\n",
    "import numpy as np\n",
    "from collections import Counter\n",
    "from scipy import stats\n",
    "import matplotlib.pyplot as plt"
   ]
  },
  {
   "cell_type": "markdown",
   "metadata": {},
   "source": [
    "### Setting up the training and testing datasets"
   ]
  },
  {
   "cell_type": "code",
   "execution_count": 24,
   "metadata": {},
   "outputs": [],
   "source": [
    "# Setting up our training data and seperating based on the x,y coordinate and type\n",
    "\n",
    "df_train = pd.read_csv('atomradii.csv')\n",
    "\n",
    "X_train = df_train.iloc[:, :-2].values\n",
    "y_train = df_train.iloc[:, 3].values\n"
   ]
  },
  {
   "cell_type": "code",
   "execution_count": 25,
   "metadata": {},
   "outputs": [],
   "source": [
    "# Setting up our training data and seperating based on the x,y coordinate and type\n",
    "\n",
    "df_test = pd.read_csv('testing.csv')\n",
    "\n",
    "X_test = df_test.iloc[:, :-2].values\n",
    "y_test = df_test.iloc[:, 3].values\n"
   ]
  },
  {
   "cell_type": "markdown",
   "metadata": {},
   "source": [
    "### Euclidean distance calculator"
   ]
  },
  {
   "cell_type": "code",
   "execution_count": 26,
   "metadata": {},
   "outputs": [],
   "source": [
    "# This function will simply return the euclidean distance between a row in the intput data to be classified.\n",
    "\n",
    "def euclidean_distance(train_point, test_point):\n",
    "    \"\"\"This function calculates the euclidean distance between two points\"\"\"\n",
    "    return np.sqrt(np.sum((train_point - test_point)**2))"
   ]
  },
  {
   "cell_type": "code",
   "execution_count": 27,
   "metadata": {},
   "outputs": [
    {
     "data": {
      "text/plain": [
       "1.4142135623730951"
      ]
     },
     "execution_count": 27,
     "metadata": {},
     "output_type": "execute_result"
    }
   ],
   "source": [
    "euclidean_distance(np.array([1,2]), np.array([2,3])) # quick test"
   ]
  },
  {
   "cell_type": "markdown",
   "metadata": {},
   "source": [
    "### Sorted list of euclidean distances"
   ]
  },
  {
   "cell_type": "code",
   "execution_count": 28,
   "metadata": {},
   "outputs": [],
   "source": [
    "def euclidean_list(X_train, y_train, test_point, k):\n",
    "    \"\"\"This function returns a sorted list of euclidean distances from a test point to all training points\"\"\"\n",
    "    \n",
    "    temp_list = [] # temporary list to store euclidean distances and other corresponding data\n",
    "    \n",
    "    for train_point in range(X_train.shape[0]): # calls on every training point for use in the euclidean_distance\n",
    "        \n",
    "        ED = euclidean_distance(X_train[train_point], test_point) #calculates euclidean distance\n",
    "        temp_list.append([X_train[train_point], ED, y_train[train_point]]) # appends data to the temporary list\n",
    "        \n",
    "        EL = pd.DataFrame(temp_list, columns = ['training point', 'distance', 'class']) #converts temporary list to a dataframe\n",
    "        sort_EL = EL.sort_values('distance')[:k] # sorts the dataframe based on k nearest neighbors\n",
    "        \n",
    "    return sort_EL"
   ]
  },
  {
   "cell_type": "code",
   "execution_count": 29,
   "metadata": {},
   "outputs": [
    {
     "data": {
      "text/html": [
       "<div>\n",
       "<style scoped>\n",
       "    .dataframe tbody tr th:only-of-type {\n",
       "        vertical-align: middle;\n",
       "    }\n",
       "\n",
       "    .dataframe tbody tr th {\n",
       "        vertical-align: top;\n",
       "    }\n",
       "\n",
       "    .dataframe thead th {\n",
       "        text-align: right;\n",
       "    }\n",
       "</style>\n",
       "<table border=\"1\" class=\"dataframe\">\n",
       "  <thead>\n",
       "    <tr style=\"text-align: right;\">\n",
       "      <th></th>\n",
       "      <th>training point</th>\n",
       "      <th>distance</th>\n",
       "      <th>class</th>\n",
       "    </tr>\n",
       "  </thead>\n",
       "  <tbody>\n",
       "    <tr>\n",
       "      <th>6</th>\n",
       "      <td>[0.45, 0.68]</td>\n",
       "      <td>0.120416</td>\n",
       "      <td>TM</td>\n",
       "    </tr>\n",
       "    <tr>\n",
       "      <th>8</th>\n",
       "      <td>[0.25, 0.87]</td>\n",
       "      <td>0.156205</td>\n",
       "      <td>Alk</td>\n",
       "    </tr>\n",
       "    <tr>\n",
       "      <th>5</th>\n",
       "      <td>[0.32, 0.62]</td>\n",
       "      <td>0.158114</td>\n",
       "      <td>TM</td>\n",
       "    </tr>\n",
       "    <tr>\n",
       "      <th>7</th>\n",
       "      <td>[0.14, 0.66]</td>\n",
       "      <td>0.254951</td>\n",
       "      <td>Alk</td>\n",
       "    </tr>\n",
       "    <tr>\n",
       "      <th>10</th>\n",
       "      <td>[0.28, 1.01]</td>\n",
       "      <td>0.256320</td>\n",
       "      <td>Alk</td>\n",
       "    </tr>\n",
       "  </tbody>\n",
       "</table>\n",
       "</div>"
      ],
      "text/plain": [
       "   training point  distance class\n",
       "6    [0.45, 0.68]  0.120416    TM\n",
       "8    [0.25, 0.87]  0.156205   Alk\n",
       "5    [0.32, 0.62]  0.158114    TM\n",
       "7    [0.14, 0.66]  0.254951   Alk\n",
       "10   [0.28, 1.01]  0.256320   Alk"
      ]
     },
     "execution_count": 29,
     "metadata": {},
     "output_type": "execute_result"
    }
   ],
   "source": [
    "euclidean_list(X_train, y_train, X_test[1], 5) # quick test"
   ]
  },
  {
   "cell_type": "markdown",
   "metadata": {},
   "source": [
    "###  KNN Function"
   ]
  },
  {
   "cell_type": "code",
   "execution_count": 30,
   "metadata": {},
   "outputs": [],
   "source": [
    "def KNN(X_train, y_train, X_test, k):\n",
    "    \"\"\"This function returns the class prediction from the list of sorted Euclidean distances based on the KNN\"\"\"\n",
    "    test_point_prediction = [] # empty list to append the predicted classifications\n",
    "    \n",
    "    for test_point in range(X_test.shape[0]): # calling on every test point for use in euclidean_list\n",
    "        ED_list = euclidean_list(X_train, y_train, X_test[test_point], k)\n",
    "        \n",
    "        # this is the portion that actually chooses the class based on the greatest number of nearest neighbors\n",
    "        test_point_label = stats.mode(ED_list['class'])[0]\n",
    "        test_point_prediction.append([X_test[test_point], test_point_label]) \n",
    "        \n",
    "        # Here, the test points and their corresponding predicted classifications are put into a data frame\n",
    "        Classification = pd.DataFrame(test_point_prediction, columns = ['test point', 'classification'])\n",
    "    \n",
    "    return Classification "
   ]
  },
  {
   "cell_type": "code",
   "execution_count": 31,
   "metadata": {},
   "outputs": [
    {
     "data": {
      "text/html": [
       "<div>\n",
       "<style scoped>\n",
       "    .dataframe tbody tr th:only-of-type {\n",
       "        vertical-align: middle;\n",
       "    }\n",
       "\n",
       "    .dataframe tbody tr th {\n",
       "        vertical-align: top;\n",
       "    }\n",
       "\n",
       "    .dataframe thead th {\n",
       "        text-align: right;\n",
       "    }\n",
       "</style>\n",
       "<table border=\"1\" class=\"dataframe\">\n",
       "  <thead>\n",
       "    <tr style=\"text-align: right;\">\n",
       "      <th></th>\n",
       "      <th>test point</th>\n",
       "      <th>classification</th>\n",
       "    </tr>\n",
       "  </thead>\n",
       "  <tbody>\n",
       "    <tr>\n",
       "      <th>0</th>\n",
       "      <td>[0.51, 1.12]</td>\n",
       "      <td>[Alk]</td>\n",
       "    </tr>\n",
       "    <tr>\n",
       "      <th>1</th>\n",
       "      <td>[0.37, 0.77]</td>\n",
       "      <td>[Alk]</td>\n",
       "    </tr>\n",
       "    <tr>\n",
       "      <th>2</th>\n",
       "      <td>[0.62, 0.35]</td>\n",
       "      <td>[PT]</td>\n",
       "    </tr>\n",
       "    <tr>\n",
       "      <th>3</th>\n",
       "      <td>[0.62, 0.62]</td>\n",
       "      <td>[PT]</td>\n",
       "    </tr>\n",
       "    <tr>\n",
       "      <th>4</th>\n",
       "      <td>[0.62, 0.93]</td>\n",
       "      <td>[Alk]</td>\n",
       "    </tr>\n",
       "  </tbody>\n",
       "</table>\n",
       "</div>"
      ],
      "text/plain": [
       "     test point classification\n",
       "0  [0.51, 1.12]          [Alk]\n",
       "1  [0.37, 0.77]          [Alk]\n",
       "2  [0.62, 0.35]           [PT]\n",
       "3  [0.62, 0.62]           [PT]\n",
       "4  [0.62, 0.93]          [Alk]"
      ]
     },
     "execution_count": 31,
     "metadata": {},
     "output_type": "execute_result"
    }
   ],
   "source": [
    "KNN(X_train, y_train, X_test, 5)"
   ]
  },
  {
   "cell_type": "markdown",
   "metadata": {},
   "source": [
    "### Selecting a proper K value"
   ]
  },
  {
   "cell_type": "markdown",
   "metadata": {},
   "source": [
    "#### Finding the accuracy"
   ]
  },
  {
   "cell_type": "code",
   "execution_count": 32,
   "metadata": {},
   "outputs": [],
   "source": [
    "def accuracy(X_train, y_train, X_test, y_test, k):\n",
    "    knn = KNN(X_train, y_train, X_test, k)\n",
    "    acc = 100 * float((y_test == knn['classification']).sum()) / knn.shape[0]\n",
    "    return acc"
   ]
  },
  {
   "cell_type": "code",
   "execution_count": 33,
   "metadata": {},
   "outputs": [
    {
     "data": {
      "text/plain": [
       "60.0"
      ]
     },
     "execution_count": 33,
     "metadata": {},
     "output_type": "execute_result"
    }
   ],
   "source": [
    "accuracy(X_train, y_train, X_test, y_test, 5)"
   ]
  },
  {
   "cell_type": "code",
   "execution_count": 34,
   "metadata": {},
   "outputs": [],
   "source": [
    "# A wrapping function that helps the user decide on what k to use. This function takes as parameters, a training dataframe, a testing dataframe and a list of values of k to try. \n",
    "# It returns a dictionary with k as the keys and the training accuracy of the test set. \n",
    "# Accuracy is measured by percentage of classifications that were correct for that value of k.\n",
    "\n",
    "def k_select(X_train, y_train, X_test, k_range):\n",
    "    \n",
    "    accuracy_list = []\n",
    "    \n",
    "    for k in k_range:\n",
    "        accuracy_list.append(accuracy(X_train, y_train, X_test, y_test, k))\n",
    "    \n",
    "    k_plot = plt.plot(k_range, accuracy_list)\n",
    "    plt.xlabel('k value')\n",
    "    plt.ylabel('% accuracy')\n",
    "    \n",
    "    return k_plot"
   ]
  },
  {
   "cell_type": "code",
   "execution_count": 35,
   "metadata": {},
   "outputs": [],
   "source": [
    "k_range = list(range(1,25))"
   ]
  },
  {
   "cell_type": "code",
   "execution_count": null,
   "metadata": {},
   "outputs": [],
   "source": [
    "\n",
    "k_select(X_train, y_train, X_test, k_range)"
   ]
  },
  {
   "cell_type": "code",
   "execution_count": null,
   "metadata": {},
   "outputs": [],
   "source": []
  },
  {
   "cell_type": "code",
   "execution_count": null,
   "metadata": {},
   "outputs": [],
   "source": []
  }
 ],
 "metadata": {
  "kernelspec": {
   "display_name": "Python 3",
   "language": "python",
   "name": "python3"
  },
  "language_info": {
   "codemirror_mode": {
    "name": "ipython",
    "version": 3
   },
   "file_extension": ".py",
   "mimetype": "text/x-python",
   "name": "python",
   "nbconvert_exporter": "python",
   "pygments_lexer": "ipython3",
   "version": "3.7.1"
  }
 },
 "nbformat": 4,
 "nbformat_minor": 2
}
